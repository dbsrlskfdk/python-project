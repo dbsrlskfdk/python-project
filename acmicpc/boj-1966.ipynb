{
 "cells": [
  {
   "cell_type": "code",
   "execution_count": 1,
   "metadata": {},
   "outputs": [],
   "source": [
    "from collections import deque"
   ]
  },
  {
   "cell_type": "code",
   "execution_count": 2,
   "metadata": {},
   "outputs": [],
   "source": [
    "def printer_que(N, M):\n",
    "    weight = deque(map(int, input().split(\" \")))\n",
    "    index_que = deque({\"idx\" : i,\"weight\" : v, \"cnt\" :1} for i,v in enumerate(weight))\n",
    "    tmp_que = deque({\"idx\" : i,\"weight\" : v, \"cnt\" :1} for i,v in enumerate(weight))\n",
    "\n",
    "    cnt = 1\n",
    "    while len(weight) != 0:\n",
    "        if weight[0] < max(weight):\n",
    "            weight.rotate(-1)\n",
    "            index_que.rotate(-1)\n",
    "        else:\n",
    "            if index_que[0][\"idx\"] == M:\n",
    "                tmp_que[M][\"cnt\"] = cnt\n",
    "                return tmp_que[M][\"cnt\"]\n",
    "                break;\n",
    "            else:\n",
    "                weight.popleft()\n",
    "                index_que.popleft()\n",
    "                cnt += 1\n",
    "                tmp_que[index_que[0][\"idx\"]][\"cnt\"] = cnt\n",
    "                "
   ]
  },
  {
   "cell_type": "code",
   "execution_count": 3,
   "metadata": {},
   "outputs": [
    {
     "name": "stdout",
     "output_type": "stream",
     "text": [
      "1\n",
      "2\n",
      "5\n",
      "15\n"
     ]
    }
   ],
   "source": [
    "ans = []\n",
    "T = int(input())\n",
    "for i in range(T):\n",
    "    N, M = map(int, input().split(\" \"))\n",
    "    ans.append(printer_que(N, M))\n",
    "\n",
    "for i in range(len(ans)):\n",
    "    print(ans[i])"
   ]
  }
 ],
 "metadata": {
  "interpreter": {
   "hash": "63fd5069d213b44bf678585dea6b12cceca9941eaf7f819626cde1f2670de90d"
  },
  "kernelspec": {
   "display_name": "Python 3.9.6 64-bit",
   "language": "python",
   "name": "python3"
  },
  "language_info": {
   "codemirror_mode": {
    "name": "ipython",
    "version": 3
   },
   "file_extension": ".py",
   "mimetype": "text/x-python",
   "name": "python",
   "nbconvert_exporter": "python",
   "pygments_lexer": "ipython3",
   "version": "3.9.6"
  },
  "orig_nbformat": 4
 },
 "nbformat": 4,
 "nbformat_minor": 2
}
