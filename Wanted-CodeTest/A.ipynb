{
 "cells": [
  {
   "cell_type": "code",
   "execution_count": 2,
   "metadata": {},
   "outputs": [],
   "source": [
    "N = int(input())\n",
    "C = list(map(int, input().split(\" \")))\n",
    "P = []\n",
    "\n",
    "for i in range(N):\n",
    "    tmp = int(input())\n",
    "    tmp_list = []\n",
    "    for _ in range(tmp):\n",
    "        tmp_list.append([list(map(int, input().split(\" \")))])\n",
    "    P.append(tmp_list)"
   ]
  },
  {
   "cell_type": "code",
   "execution_count": 5,
   "metadata": {},
   "outputs": [
    {
     "name": "stdout",
     "output_type": "stream",
     "text": [
      "[10, 15, 20, 25]\n",
      "[[3, 10]]\n"
     ]
    }
   ],
   "source": [
    "print(C)\n",
    "print(P[0][0])"
   ]
  },
  {
   "cell_type": "code",
   "execution_count": null,
   "metadata": {},
   "outputs": [],
   "source": [
    "tmp = C\n",
    "buy_cost = 0\n",
    "\n",
    "for i in range(N):\n",
    "    for j in range(len(P[i])):\n",
    "        "
   ]
  }
 ],
 "metadata": {
  "interpreter": {
   "hash": "e5dc435c09b66366b3585650057b3927d589a8c5b18d44f27594194877b89d4d"
  },
  "kernelspec": {
   "display_name": "Python 3.9.6 ('acmicpc': venv)",
   "language": "python",
   "name": "python3"
  },
  "language_info": {
   "codemirror_mode": {
    "name": "ipython",
    "version": 3
   },
   "file_extension": ".py",
   "mimetype": "text/x-python",
   "name": "python",
   "nbconvert_exporter": "python",
   "pygments_lexer": "ipython3",
   "version": "3.9.6"
  },
  "orig_nbformat": 4
 },
 "nbformat": 4,
 "nbformat_minor": 2
}
