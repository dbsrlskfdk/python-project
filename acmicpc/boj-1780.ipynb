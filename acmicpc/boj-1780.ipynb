{
 "cells": [
  {
   "cell_type": "markdown",
   "metadata": {},
   "source": [
    "PyPy3 로 제출\n",
    "```python\n",
    "import sys\n",
    "input = sys.stdin.readline\n",
    "```\n",
    "을 통해서 입력시간 낮추기.."
   ]
  },
  {
   "cell_type": "code",
   "execution_count": 2,
   "metadata": {},
   "outputs": [],
   "source": [
    "N = int(input())\n",
    "num_list = []\n",
    "\n",
    "for i in range(N):\n",
    "    num_list.append(list(map(int, input().split(\" \"))))"
   ]
  },
  {
   "cell_type": "code",
   "execution_count": 4,
   "metadata": {},
   "outputs": [],
   "source": [
    "one = 0\n",
    "zero = 0\n",
    "minus_one = 0\n",
    "def DnQ(row, col, N):\n",
    "    global one, zero, minus_one\n",
    "    flag = 0\n",
    "    first_color = num_list[row][col]\n",
    "    for i in range(row, row+N):\n",
    "        for j in range(col, col+N):\n",
    "            if first_color != num_list[i][j]:\n",
    "                flag = 1\n",
    "\n",
    "    if flag == 0:\n",
    "        if first_color == 1:\n",
    "            one += 1\n",
    "            return\n",
    "        elif first_color == 0:\n",
    "            zero += 1\n",
    "            return\n",
    "        elif first_color == -1:\n",
    "            minus_one += 1\n",
    "            return\n",
    "    \n",
    "    else:\n",
    "        new_N = N // 3\n",
    "        DnQ(row, col, new_N) # 0, 0 ~ 3\n",
    "        DnQ(row, col+new_N, new_N) # 0, 3 ~ 3\n",
    "        DnQ(row, col+new_N*2, new_N) # 0, 6 ~ 3\n",
    "        DnQ(row+new_N, col, new_N) # 3, 0 ~ 3\n",
    "        DnQ(row+new_N, col+new_N, new_N) # 3, 3, ~ 3\n",
    "        DnQ(row+new_N, col+new_N*2, new_N) # 3, 6, ~ 3\n",
    "        DnQ(row+new_N*2, col, new_N) # 6, 0 ~ 3       \n",
    "        DnQ(row+new_N*2, col+new_N, new_N) # 6, 3 ~ 3\n",
    "        DnQ(row+new_N*2, col+new_N*2, new_N) # 6, 6 ~ 3"
   ]
  },
  {
   "cell_type": "code",
   "execution_count": 5,
   "metadata": {},
   "outputs": [],
   "source": [
    "DnQ(0, 0, N)"
   ]
  },
  {
   "cell_type": "code",
   "execution_count": 6,
   "metadata": {},
   "outputs": [
    {
     "name": "stdout",
     "output_type": "stream",
     "text": [
      "10\n",
      "12\n",
      "11\n"
     ]
    }
   ],
   "source": [
    "print(minus_one)\n",
    "print(zero)\n",
    "print(one)"
   ]
  },
  {
   "cell_type": "code",
   "execution_count": null,
   "metadata": {},
   "outputs": [],
   "source": []
  }
 ],
 "metadata": {
  "interpreter": {
   "hash": "63fd5069d213b44bf678585dea6b12cceca9941eaf7f819626cde1f2670de90d"
  },
  "kernelspec": {
   "display_name": "Python 3.9.6 64-bit",
   "language": "python",
   "name": "python3"
  },
  "language_info": {
   "codemirror_mode": {
    "name": "ipython",
    "version": 3
   },
   "file_extension": ".py",
   "mimetype": "text/x-python",
   "name": "python",
   "nbconvert_exporter": "python",
   "pygments_lexer": "ipython3",
   "version": "3.9.6"
  },
  "orig_nbformat": 4
 },
 "nbformat": 4,
 "nbformat_minor": 2
}
