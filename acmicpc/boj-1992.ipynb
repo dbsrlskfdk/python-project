{
 "cells": [
  {
   "cell_type": "code",
   "execution_count": 9,
   "metadata": {},
   "outputs": [],
   "source": [
    "N = int(input())\n",
    "num_list = []\n",
    "for _ in range(N):\n",
    "    num_list.append(list(map(lambda x: int(x) , input())))"
   ]
  },
  {
   "cell_type": "code",
   "execution_count": 10,
   "metadata": {},
   "outputs": [
    {
     "name": "stdout",
     "output_type": "stream",
     "text": [
      "[[1, 1], [1, 1]]\n"
     ]
    }
   ],
   "source": [
    "print(num_list)"
   ]
  },
  {
   "cell_type": "code",
   "execution_count": 11,
   "metadata": {},
   "outputs": [],
   "source": [
    "def Quad_tree(row, col, N):\n",
    "    flag = 0\n",
    "    first_bit = num_list[row][col]\n",
    "    \n",
    "    for i in range(row, row+N):\n",
    "        for j in range(col, col+N):\n",
    "            if num_list[i][j] != first_bit:\n",
    "                flag = 1\n",
    "    \n",
    "    if flag == 0:\n",
    "        \n",
    "        print(first_bit, end='')\n",
    "        \n",
    "        return\n",
    "    else:\n",
    "        new_N = N // 2\n",
    "        print('(', end='')\n",
    "        Quad_tree(row, col, new_N)\n",
    "        Quad_tree(row, col+new_N, new_N)\n",
    "        Quad_tree(row+new_N, col, new_N)\n",
    "        Quad_tree(row+new_N, col+new_N, new_N)\n",
    "        print(')', end='')\n",
    "        return\n",
    "    "
   ]
  },
  {
   "cell_type": "code",
   "execution_count": 12,
   "metadata": {},
   "outputs": [
    {
     "name": "stdout",
     "output_type": "stream",
     "text": [
      "1\n"
     ]
    }
   ],
   "source": [
    "Quad_tree(0, 0, N)\n",
    "print(\"\")"
   ]
  }
 ],
 "metadata": {
  "interpreter": {
   "hash": "47b759769b1b731a5eb46692888e47bd0e7f68ba13a134596e2d9957acc25d65"
  },
  "kernelspec": {
   "display_name": "Python 3.10.2 64-bit",
   "language": "python",
   "name": "python3"
  },
  "language_info": {
   "codemirror_mode": {
    "name": "ipython",
    "version": 3
   },
   "file_extension": ".py",
   "mimetype": "text/x-python",
   "name": "python",
   "nbconvert_exporter": "python",
   "pygments_lexer": "ipython3",
   "version": "3.9.6"
  },
  "orig_nbformat": 4
 },
 "nbformat": 4,
 "nbformat_minor": 2
}
