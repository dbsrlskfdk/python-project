{
 "cells": [
  {
   "cell_type": "code",
   "execution_count": 1,
   "metadata": {},
   "outputs": [],
   "source": [
    "N = int(input())\n",
    "num_list = []\n",
    "\n",
    "for i in range(N):\n",
    "    num_list.append(list(map(int, input().split(\" \"))))"
   ]
  },
  {
   "cell_type": "code",
   "execution_count": 2,
   "metadata": {},
   "outputs": [
    {
     "name": "stdout",
     "output_type": "stream",
     "text": [
      "[[1, 1, 0, 0, 0, 0, 1, 1], [1, 1, 0, 0, 0, 0, 1, 1], [0, 0, 0, 0, 1, 1, 0, 0], [0, 0, 0, 0, 1, 1, 0, 0], [1, 0, 0, 0, 1, 1, 1, 1], [0, 1, 0, 0, 1, 1, 1, 1], [0, 0, 1, 1, 1, 1, 1, 1], [0, 0, 1, 1, 1, 1, 1, 1]]\n"
     ]
    }
   ],
   "source": [
    "print(num_list)"
   ]
  },
  {
   "cell_type": "code",
   "execution_count": 5,
   "metadata": {},
   "outputs": [],
   "source": [
    "white = 0\n",
    "blue = 0\n",
    "def DnQ(row, col, N):\n",
    "    global white, blue\n",
    "    flag = 0\n",
    "    first_color = num_list[row][col]\n",
    "    for i in range(row, row+N):\n",
    "        for j in range(col, col+N):\n",
    "            if first_color != num_list[i][j]:\n",
    "                flag = 1\n",
    "\n",
    "    if flag == 0:\n",
    "        if first_color == 1:\n",
    "            blue += 1\n",
    "            return\n",
    "        else:\n",
    "            white += 1\n",
    "            return\n",
    "    \n",
    "    else:\n",
    "        new_N = N // 2\n",
    "        DnQ(row, col, new_N)\n",
    "        DnQ(row+new_N, col, new_N)\n",
    "        DnQ(row, col+new_N, new_N)\n",
    "        DnQ(row+new_N, col+new_N, new_N)"
   ]
  },
  {
   "cell_type": "code",
   "execution_count": 6,
   "metadata": {},
   "outputs": [],
   "source": [
    "DnQ(0, 0, N)"
   ]
  },
  {
   "cell_type": "code",
   "execution_count": 7,
   "metadata": {},
   "outputs": [
    {
     "name": "stdout",
     "output_type": "stream",
     "text": [
      "9\n",
      "7\n"
     ]
    }
   ],
   "source": [
    "print(white)\n",
    "print(blue)"
   ]
  },
  {
   "cell_type": "code",
   "execution_count": null,
   "metadata": {},
   "outputs": [],
   "source": []
  }
 ],
 "metadata": {
  "interpreter": {
   "hash": "47b759769b1b731a5eb46692888e47bd0e7f68ba13a134596e2d9957acc25d65"
  },
  "kernelspec": {
   "display_name": "Python 3.10.2 64-bit",
   "language": "python",
   "name": "python3"
  },
  "language_info": {
   "codemirror_mode": {
    "name": "ipython",
    "version": 3
   },
   "file_extension": ".py",
   "mimetype": "text/x-python",
   "name": "python",
   "nbconvert_exporter": "python",
   "pygments_lexer": "ipython3",
   "version": "3.10.2"
  },
  "orig_nbformat": 4
 },
 "nbformat": 4,
 "nbformat_minor": 2
}
