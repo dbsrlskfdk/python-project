{
 "cells": [
  {
   "cell_type": "code",
   "execution_count": 27,
   "metadata": {},
   "outputs": [],
   "source": [
    "from collections import deque, defaultdict\n",
    "\n",
    "N, M , V = map(int, input().split(\" \"))"
   ]
  },
  {
   "cell_type": "code",
   "execution_count": 37,
   "metadata": {},
   "outputs": [],
   "source": [
    "graph = defaultdict(list)\n",
    "for _  in range(M):\n",
    "    A, B = map(int, input().split(\" \"))\n",
    "    graph[A].append(B)\n",
    "    graph[B].append(A)\n",
    "\n",
    "for i in graph:\n",
    "    graph[i].sort()"
   ]
  },
  {
   "cell_type": "code",
   "execution_count": 38,
   "metadata": {},
   "outputs": [
    {
     "name": "stdout",
     "output_type": "stream",
     "text": [
      "defaultdict(<class 'list'>, {1: [2, 3, 4], 2: [1, 4], 3: [1, 4], 4: [1, 2, 3]})\n"
     ]
    }
   ],
   "source": [
    "print(graph)"
   ]
  },
  {
   "cell_type": "code",
   "execution_count": 30,
   "metadata": {},
   "outputs": [],
   "source": [
    "def DFS(graph, start):\n",
    "    visit = {}\n",
    "    stack = []\n",
    "\n",
    "    stack.append(start)\n",
    "\n",
    "    while len(stack) != 0: # stack이 빌 때까지\n",
    "\n",
    "        node = stack.pop() # 해당 node pop\n",
    "        if node not in visit: # 만약 방문하지않은 node 였으면, \n",
    "            visit[node] = True # 방문여부를 True로\n",
    "            stack.extend(graph[node]) # 그리고 해당 node와 연결되어있는 edge들을 모두 stack에 push\n",
    "\n",
    "    return list(visit.keys()) # 이미 visit의 key는 방문한 node 순서대로 정해졌기에, return 하면 방문순서대로 나올 것"
   ]
  },
  {
   "cell_type": "markdown",
   "metadata": {},
   "source": [
    "![img](https://mblogthumb-phinf.pstatic.net/20150118_70/jvioonpe_1421512004746YMkU1_JPEG/%BD%BA%C5%C3.jpg?type=w2)"
   ]
  },
  {
   "cell_type": "code",
   "execution_count": 39,
   "metadata": {},
   "outputs": [
    {
     "name": "stdout",
     "output_type": "stream",
     "text": [
      "[1, 4, 3, 2]\n"
     ]
    }
   ],
   "source": [
    "print(DFS(graph, V))"
   ]
  },
  {
   "cell_type": "code",
   "execution_count": 40,
   "metadata": {},
   "outputs": [],
   "source": [
    "def BFS(graph, start):\n",
    "    visit = {}\n",
    "    queue = deque()\n",
    "\n",
    "    queue.append(start) # 시작 node 추가해주고,\n",
    "    while len(queue) != 0: # 큐가 빌 떄까지\n",
    "        node = queue.popleft() # node 탐색을 위해 deque\n",
    "        \n",
    "        if node not in visit: # 해당 node를 방문하지 않았다면,\n",
    "            visit[node] = True # 해당 node의 key에 True로 방문여부 표시\n",
    "            queue.extend(graph[node]) # 해당 노드에 연결된 edge들을 다 queue에 넣어준다\n",
    "        \n",
    "    return list(visit.keys())"
   ]
  },
  {
   "cell_type": "markdown",
   "metadata": {},
   "source": [
    "![img](https://mblogthumb-phinf.pstatic.net/20150118_275/jvioonpe_1421512005495WBrgp_JPEG/%C5%A5.jpg?type=w2)"
   ]
  },
  {
   "cell_type": "code",
   "execution_count": 41,
   "metadata": {},
   "outputs": [
    {
     "name": "stdout",
     "output_type": "stream",
     "text": [
      "[1, 2, 3, 4]\n"
     ]
    }
   ],
   "source": [
    "print(BFS(graph, V))"
   ]
  },
  {
   "cell_type": "code",
   "execution_count": 43,
   "metadata": {},
   "outputs": [
    {
     "name": "stdout",
     "output_type": "stream",
     "text": [
      "1 2 4 3\n",
      "1 2 3 4\n"
     ]
    }
   ],
   "source": [
    "tmp = BFS(graph, V) # edge가 여러개면, 정점 번호가 작은 순으로 나오라해서, graph를 sort하고 진행을 한 BFS 계산 먼저 BFS는 deque를 할 때 가장 앞 head 부터 뽑기에, 크기순으로 배열되어있다면 크기순으로 나올 것임\n",
    "for i in graph:\n",
    "    graph[i].reverse() # DFS 같은 경우는 pop을 하게 되면, 가장 나중에 들어간 node 먼저 나오기에, 가장 나중에 들어간 것을 가장 작은게 되도록 reverse 시켜주고 계산\n",
    "print(\" \".join(str(i) for i in DFS(graph, V)))\n",
    "print(\" \".join(str(i) for i in tmp))"
   ]
  }
 ],
 "metadata": {
  "interpreter": {
   "hash": "47b759769b1b731a5eb46692888e47bd0e7f68ba13a134596e2d9957acc25d65"
  },
  "kernelspec": {
   "display_name": "Python 3.10.2 64-bit",
   "language": "python",
   "name": "python3"
  },
  "language_info": {
   "codemirror_mode": {
    "name": "ipython",
    "version": 3
   },
   "file_extension": ".py",
   "mimetype": "text/x-python",
   "name": "python",
   "nbconvert_exporter": "python",
   "pygments_lexer": "ipython3",
   "version": "3.10.2"
  },
  "orig_nbformat": 4
 },
 "nbformat": 4,
 "nbformat_minor": 2
}
