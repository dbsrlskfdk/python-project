{
 "cells": [
  {
   "cell_type": "markdown",
   "metadata": {},
   "source": [
    "Pypy3로 제출해야함\n",
    "안그러면 시간초과가 났었음"
   ]
  },
  {
   "cell_type": "code",
   "execution_count": null,
   "metadata": {},
   "outputs": [],
   "source": [
    "N = int(input())\n",
    "\n",
    "num_list = []\n",
    "for _ in range(N):\n",
    "    num_list.append(int(input()))\n",
    "num_list.sort()\n",
    "diff_list = [num_list[i+1] - num_list[i] for i in range(N-1)]"
   ]
  },
  {
   "cell_type": "markdown",
   "metadata": {},
   "source": [
    "이 문제에서 바라는 나머지가 같은 숫자들을 구하라는건, 입력된 숫자들의 '차'의 공약수들을 구하는 것이다.\n",
    "수학적인 지식이 요구 된다... \\\n",
    "if) 나눠주는 수가 M, 나머지가 R 이라고 한다면, 이 문제에서 바라는 수들의 조건은 \\\n",
    "A = M*Q + R \\\n",
    "B = M*Q'+ R \\\n",
    "C = M*Q''+R \\\n",
    "이런 수들을 원하는 것 \\\n",
    "그러면 서로의 숫자들의 차이를 구하면 \\\n",
    "B-A = M*(Q'-Q) \\ \n",
    "C-B = M*(Q''-Q') \\\n",
    "이런식으로 M으로 나눴을 떄 나머지가 0인 즉, 나누어떨어트릴 수 있는 M을 구해야하는 것이다. \\\n",
    "나눗셈을 정상적으로 하기위해서는 양수인 숫자에서 계산을 생각하여야 하기에, 주어진 입력을 먼저 오름차순으로 정렬해주고 나서, 앞 뒤 차의 집합을 구한다(`N[i+1]-N[i]`) \\\n",
    "그리고 나서 공약수를 구하기 위해서, 유클리드 호제법을 이용하여 차의 집합에서 이웃한 수와의 최대공약수를 구해준다.(`euclidean_GCD(diff_list[i+1], diff_list[i])`) \\\n",
    "\n",
    "그러면 차이의 집합의 최대공약수들이 나올텐데, 이 것을 계속 반복하여, 모든 숫자들의 차이의 집합의 최대공약수, 즉, 차이의 집합의 모든 숫자들의 최대공약수를 구한다.\\\n",
    "\n",
    "그리고 나서 2부터 ~ 전체 숫자들의 최대공약수까지 반복을 하며, 나눠떨어트리는 숫자를 구하여 최대공약수의 약수를 구하면 우리가 원하는 값이 나오는 것이다.\\\n",
    "\n",
    "---\n",
    "* 생각해야할 제한 조건\n",
    "차이의 집합이 필요없을 때, 그니까 숫자가 2개만 주어지게 되면 사실 바로 서로의 차이의 최대공약수 구해서 약수들 구하면 끝 "
   ]
  },
  {
   "cell_type": "code",
   "execution_count": null,
   "metadata": {},
   "outputs": [],
   "source": [
    "# 유클리드 호제법 알고리즘\n",
    "def euclidean_GCD(a, b):\n",
    "    if a<b:\n",
    "        tmp = a\n",
    "        a = b\n",
    "        b = tmp\n",
    "    tmp = a\n",
    "    a = b\n",
    "    b = tmp % b\n",
    "    while b != 0:\n",
    "        tmp = a\n",
    "        a = b\n",
    "        b = tmp % b\n",
    "    return a"
   ]
  },
  {
   "cell_type": "code",
   "execution_count": null,
   "metadata": {},
   "outputs": [],
   "source": [
    "if len(diff_list) != 1:\n",
    "    GCD_list = [euclidean_GCD(diff_list[i+1], diff_list[i]) for i in range(len(diff_list)-1)]\n",
    "    tmp = GCD_list\n",
    "    while len(GCD_list) != 1:\n",
    "        GCD_list = [euclidean_GCD(tmp[i+1], tmp[i]) for i in range(len(tmp)-1)]\n",
    "        tmp = GCD_list\n",
    "\n",
    "    ans_list = []\n",
    "\n",
    "    for i in range(2, GCD_list[0]+1):\n",
    "        if GCD_list[0] % i == 0:\n",
    "            ans_list.append(i)\n",
    "\n",
    "    for i in range(len(ans_list)):\n",
    "        print(ans_list[i], end=\" \")            \n",
    "else:\n",
    "    ans_list = []\n",
    "    for i in range(2, diff_list[0]+1):\n",
    "        if diff_list[0] % i == 0:\n",
    "            ans_list.append(i)\n",
    "    \n",
    "    for i in range(len(ans_list)):\n",
    "        if i != len(ans_list)-1:\n",
    "            print(ans_list[i], end=\" \") \n",
    "        else:\n",
    "            print(ans_list[i])\n"
   ]
  }
 ],
 "metadata": {
  "language_info": {
   "name": "python"
  },
  "orig_nbformat": 4
 },
 "nbformat": 4,
 "nbformat_minor": 2
}
