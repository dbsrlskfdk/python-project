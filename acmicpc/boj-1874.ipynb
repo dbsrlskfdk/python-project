{
 "cells": [
  {
   "cell_type": "code",
   "execution_count": null,
   "metadata": {},
   "outputs": [],
   "source": [
    "from sys import stdin\n",
    "\n",
    "pe = int(stdin.readline())\n",
    "arr = []\n",
    "\n",
    "for i in range(pe):\n",
    "    arr.append(int(stdin.readline()))\n",
    "    \n",
    "pr = []\n",
    "\n",
    "num = 1\n",
    "t = 0\n",
    "tmp = []\n",
    "operator_list = []\n",
    "flag = 0\n",
    "\n",
    "while tmp != arr:\n",
    "    if not(arr[t] in pr) and num <= pe:\n",
    "        pr.append(num)\n",
    "        operator_list.append('+')\n",
    "        num += 1\n",
    "    elif arr[t] == pr[-1]:\n",
    "        tmp_num = pr[-1]\n",
    "        pr.pop()\n",
    "        operator_list.append('-')\n",
    "        tmp.append(tmp_num)\n",
    "        t += 1\n",
    "    else:\n",
    "        flag = 1\n",
    "        break\n",
    "\n",
    "if flag == 1:\n",
    "    print('NO')\n",
    "else:\n",
    "    print('\\n'.join(operator_list))"
   ]
  }
 ],
 "metadata": {
  "language_info": {
   "name": "python"
  },
  "orig_nbformat": 4
 },
 "nbformat": 4,
 "nbformat_minor": 2
}
