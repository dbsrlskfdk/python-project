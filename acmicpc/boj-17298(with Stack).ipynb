{
 "cells": [
  {
   "cell_type": "code",
   "execution_count": 10,
   "metadata": {},
   "outputs": [],
   "source": [
    "N = int(input())\n",
    "\n",
    "A = list(map(int, input().split(\" \")))"
   ]
  },
  {
   "cell_type": "code",
   "execution_count": 11,
   "metadata": {},
   "outputs": [
    {
     "name": "stdout",
     "output_type": "stream",
     "text": [
      "[3, 5, 2, 7]\n"
     ]
    }
   ],
   "source": [
    "print(A)"
   ]
  },
  {
   "cell_type": "code",
   "execution_count": 12,
   "metadata": {},
   "outputs": [
    {
     "name": "stdout",
     "output_type": "stream",
     "text": [
      "5 7 7 -1 "
     ]
    }
   ],
   "source": [
    "NGE = []\n",
    "\n",
    "for i in range(N):\n",
    "    stack = []\n",
    "    for j in range(N-1, i, -1):\n",
    "        if A[i] < A[j]:\n",
    "            stack.append(A[j])\n",
    "    if len(stack) != 0:\n",
    "        print(stack.pop(), end=\" \")\n",
    "    else:\n",
    "        print(-1, end=\" \")\n",
    "    "
   ]
  },
  {
   "cell_type": "code",
   "execution_count": 13,
   "metadata": {},
   "outputs": [],
   "source": [
    "stack = []\n",
    "ans = []\n",
    "for i in range(N-1, -1, -1):\n",
    "    while (len(stack) != 0) and (stack[len(stack)-1] <= A[i]): # 스택이 비어있지 않다면, 그리고 stack의 top이 현재 값보다 작다면\n",
    "        stack.pop() # stack 을 pop을 반복 => 그니까 자신보다 큰 수 가 나올때까지 pop을 진행\n",
    "    if len(stack) == 0: # 만약 스택이 비어지게 되면, 자신보다 큰 수가 없다는 것이기때문에 -1을 추가\n",
    "        ans.append(-1) \n",
    "    else:\n",
    "        ans.append(stack[len(stack)-1]) # 그게 아니라면, 자신보다 큰 수가 있어서 while을 탈출한 것이니 스택의top을 ans에 추가\n",
    "    stack.append(A[i]) # 그리고 자기 자신도 스택에 넣어준다."
   ]
  },
  {
   "cell_type": "code",
   "execution_count": 14,
   "metadata": {},
   "outputs": [
    {
     "name": "stdout",
     "output_type": "stream",
     "text": [
      "[-1, 7, 7, 5]\n"
     ]
    }
   ],
   "source": [
    "print(ans)"
   ]
  },
  {
   "cell_type": "code",
   "execution_count": 15,
   "metadata": {},
   "outputs": [
    {
     "name": "stdout",
     "output_type": "stream",
     "text": [
      "5 7 7 -1 "
     ]
    }
   ],
   "source": [
    "for i in range(N-1, -1, -1):\n",
    "    print(ans[i], end=\" \")"
   ]
  }
 ],
 "metadata": {
  "interpreter": {
   "hash": "63fd5069d213b44bf678585dea6b12cceca9941eaf7f819626cde1f2670de90d"
  },
  "kernelspec": {
   "display_name": "Python 3.9.6 64-bit",
   "language": "python",
   "name": "python3"
  },
  "language_info": {
   "codemirror_mode": {
    "name": "ipython",
    "version": 3
   },
   "file_extension": ".py",
   "mimetype": "text/x-python",
   "name": "python",
   "nbconvert_exporter": "python",
   "pygments_lexer": "ipython3",
   "version": "3.9.6"
  },
  "orig_nbformat": 4
 },
 "nbformat": 4,
 "nbformat_minor": 2
}
