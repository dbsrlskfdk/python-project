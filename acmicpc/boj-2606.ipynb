{
 "cells": [
  {
   "cell_type": "code",
   "execution_count": 1,
   "metadata": {},
   "outputs": [],
   "source": [
    "from collections import deque, defaultdict\n",
    "N = int(input())\n",
    "M = int(input())\n",
    "\n",
    "graph = defaultdict(list)\n",
    "for _ in range(M):\n",
    "    A, B = map(int, input().split(\" \"))\n",
    "    graph[A].append(B)\n",
    "    graph[B].append(A)\n",
    "\n",
    "for i in graph:\n",
    "    graph[i].sort()"
   ]
  },
  {
   "cell_type": "code",
   "execution_count": 3,
   "metadata": {},
   "outputs": [],
   "source": [
    "def DFS(graph):\n",
    "    visit = {}\n",
    "    stack = []\n",
    "\n",
    "    stack.append(1)\n",
    "    \n",
    "    while len(stack) != 0:\n",
    "        node = stack.pop()\n",
    "        if node not in visit:\n",
    "            visit[node] = True\n",
    "            stack.extend(graph[node])\n",
    "    \n",
    "    return list(visit.keys())"
   ]
  },
  {
   "cell_type": "code",
   "execution_count": 5,
   "metadata": {},
   "outputs": [
    {
     "name": "stdout",
     "output_type": "stream",
     "text": [
      "4\n"
     ]
    }
   ],
   "source": [
    "print(len(DFS(graph))-1) # 그냥 DFS로 출발을 1로 하여, 1과 연결된 모든 방문한 노드들을 구하면, 1을 제외한 나머지의 갯수들이 감염된 애들"
   ]
  }
 ],
 "metadata": {
  "interpreter": {
   "hash": "63fd5069d213b44bf678585dea6b12cceca9941eaf7f819626cde1f2670de90d"
  },
  "kernelspec": {
   "display_name": "Python 3.9.6 64-bit",
   "language": "python",
   "name": "python3"
  },
  "language_info": {
   "codemirror_mode": {
    "name": "ipython",
    "version": 3
   },
   "file_extension": ".py",
   "mimetype": "text/x-python",
   "name": "python",
   "nbconvert_exporter": "python",
   "pygments_lexer": "ipython3",
   "version": "3.9.6"
  },
  "orig_nbformat": 4
 },
 "nbformat": 4,
 "nbformat_minor": 2
}
