{
 "cells": [
  {
   "cell_type": "code",
   "execution_count": 3,
   "metadata": {},
   "outputs": [],
   "source": [
    "from collections import deque"
   ]
  },
  {
   "cell_type": "code",
   "execution_count": 7,
   "metadata": {},
   "outputs": [],
   "source": [
    "T = int(input())"
   ]
  },
  {
   "cell_type": "code",
   "execution_count": 8,
   "metadata": {},
   "outputs": [],
   "source": [
    "ans = []\n",
    "for _ in range(T):\n",
    "    flag = 1 # flag = 1이면, 순행 / flag = -1 이면 역행 \n",
    "    p = input()\n",
    "    n = int(input())\n",
    "    test_arr =  deque(input().removeprefix('[').removesuffix(']').split(',')) # 들어오는 입력에 필요없는 것들이, '[' , ',', ']' 들이다. removeprefix로 앞에 들어온 '[' 을 제거 , removesuffix로 뒤에 들어온 ']' 을 제거 , split(',')으로 중간에 껴있던 ','을 기준으로 나누어 deque 형으로 저장해준다.\n",
    "\n",
    "    # p에 대한 함수 시행 조건문\n",
    "    if n == 0 and p.count('D') > 0: # n == 0 주어진 배열의 길이가 0이고, p.count('D') > 0 즉, D가 하나라도 존재하면, 아래 반복을 시행할 필요도 없이 error를 저장\n",
    "        ans.append(\"error\") \n",
    "        n -= 1 # 길이를 음수로 만들어주어, 아래 남은 문자열들을 저장해놓는 조건문에서 진행하지 않게 해주어야한다.\n",
    "    else: # 위의 문제가 발생하지 않으면, 함수들에 대한 반복문 진행 -> 조건문을 else로 진행해야지 아니면, 아래 반복문을 실행할 때 문제가 발생 EX) D 0 [] 의 input이 들어오면, 위의 조건에서 error를 한번 추가하고, 아래조건에서 'error'를 한번 더 추가하는 문제가 발생하여, D 0 [] 뒤로 오는 output이 밀림 \n",
    "        for i in range(len(p)):\n",
    "            if p[i] == 'R':\n",
    "                flag *= -1 # 'R' 함수가 들어오게 되면, flag 에 -1을 곱하여 역행하게 한다.\n",
    "            elif p[i] == 'D':\n",
    "                if n > 0: # 'D' 함수가 들어오고, 길이가 0보다 크다면, 지울 것이 남아있다는 것이기에 진행\n",
    "                    if flag == 1: # flag = 1이면, 순행 => deque의 left에서 지워준다.\n",
    "                        test_arr.popleft()\n",
    "                        n -= 1 # 항상 지우고나면, 길이를 한 개 줄여줘야한다.\n",
    "                    elif flag == -1: # flag = -1이면, 역행 => deque의 right에서 지워준다.\n",
    "                        test_arr.pop()\n",
    "                        n -= 1\n",
    "                else:\n",
    "                    ans.append(\"error\") # 만약 길이가 0보다 작거나 같은데, 'D' 함수를 실행한 것이면, 'error'를 추가해주고 반복문을 탈출 => 남은 숫자들에 대한 대입은 아래에서 진행하는데, 나중에 체크해서 진행하는 것이 아니라 반복 도중 error를 검출해주는 것\n",
    "                    n -= 1 # 아래 남은 수열 대입 조건문에서 한번 더 진행하면 안되기에, n을 1 감소시켜서 조건문을 시행하지 않게 만들어준다.\n",
    "                    break\n",
    "\n",
    "    # 남은 수열 대입 조건문\n",
    "    if n >= 0: # 길이가 0보다 크거나 같으면, 같으면에 대한 조건에 대해서도 시행하는 이유는, DD 2 [1,2] 같이 지움과 동시에 길이가 0이 되는 input에 대해서도 [] 을 output으로 저장해줘야하기 떄문에, DD 1 [1] 이런 input은 위의 함수 시행 조건문에서 이미 'error'로 ans가 저장되었고, n = -1의 값을 가져서 이 조건문을 시행하지않을것이다.\n",
    "        if flag == 1: # 만약 순행하는 상태의 수열이면\n",
    "            ans.append(\"[\"+\",\".join(test_arr)+\"]\") # 남은 수열을 그대로 저장해준다.\n",
    "        elif flag == -1: # 만약 역행하는 상태의 수열이면\n",
    "            test_arr.reverse() # 남은 수열을 역으로 돌려주고\n",
    "            ans.append(\"[\"+\",\".join(test_arr)+\"]\") # 저장해준다. => 이 과정은 index를 거꾸로부터 저장하는 방법도 있겠지만, 뭐 딱히 문제가 없어서 그냥 통과되었다. "
   ]
  },
  {
   "cell_type": "code",
   "execution_count": 9,
   "metadata": {},
   "outputs": [
    {
     "name": "stdout",
     "output_type": "stream",
     "text": [
      "[2,1]\n",
      "error\n",
      "[1,2,3,5,8]\n",
      "error\n"
     ]
    }
   ],
   "source": [
    "for i in range(T):\n",
    "    print(ans[i])\n",
    "# 아래 output에 대한 input\n",
    "# RDD\n",
    "# 4\n",
    "# [1,2,3,4]    \n",
    "# DD\n",
    "# 1\n",
    "# [42]\n",
    "# RRD\n",
    "# 6\n",
    "# [1,1,2,3,5,8]\n",
    "# D\n",
    "# 0\n",
    "# []"
   ]
  },
  {
   "cell_type": "code",
   "execution_count": 10,
   "metadata": {},
   "outputs": [
    {
     "name": "stdout",
     "output_type": "stream",
     "text": [
      "['[2,1]', 'error', '[1,2,3,5,8]', 'error']\n"
     ]
    }
   ],
   "source": [
    "print(ans) # 마지막 input으로 D 0 [] 을 주었을 떄, ans에 문제없이 'error'가 한번만 추가된 모습을 볼 수 있다."
   ]
  }
 ],
 "metadata": {
  "interpreter": {
   "hash": "63fd5069d213b44bf678585dea6b12cceca9941eaf7f819626cde1f2670de90d"
  },
  "kernelspec": {
   "display_name": "Python 3.9.6 64-bit",
   "language": "python",
   "name": "python3"
  },
  "language_info": {
   "codemirror_mode": {
    "name": "ipython",
    "version": 3
   },
   "file_extension": ".py",
   "mimetype": "text/x-python",
   "name": "python",
   "nbconvert_exporter": "python",
   "pygments_lexer": "ipython3",
   "version": "3.9.6"
  },
  "orig_nbformat": 4
 },
 "nbformat": 4,
 "nbformat_minor": 2
}
