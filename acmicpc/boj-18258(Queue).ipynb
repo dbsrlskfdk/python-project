{
 "cells": [
  {
   "cell_type": "code",
   "execution_count": 30,
   "metadata": {},
   "outputs": [],
   "source": [
    "import sys"
   ]
  },
  {
   "cell_type": "code",
   "execution_count": 1,
   "metadata": {},
   "outputs": [],
   "source": [
    "N = int(sys.stdin.readline())"
   ]
  },
  {
   "cell_type": "code",
   "execution_count": 2,
   "metadata": {},
   "outputs": [],
   "source": [
    "Q = []\n",
    "tail = 0\n",
    "head = 0"
   ]
  },
  {
   "cell_type": "code",
   "execution_count": 3,
   "metadata": {},
   "outputs": [
    {
     "name": "stdout",
     "output_type": "stream",
     "text": [
      "1\n",
      "2\n",
      "2\n",
      "0\n",
      "1\n",
      "2\n",
      "-1\n",
      "0\n",
      "1\n",
      "-1\n",
      "0\n",
      "3\n"
     ]
    }
   ],
   "source": [
    "for i in range(N):\n",
    "    inst = list(map(str, sys.stdin.readline().split()))\n",
    "\n",
    "    \n",
    "    if inst[0] == 'front':\n",
    "        if tail-head == 0:\n",
    "            print(-1)\n",
    "        else:\n",
    "            print(Q[head])\n",
    "    elif inst[0] == 'back':\n",
    "        if tail-head == 0:\n",
    "            print(-1)\n",
    "        else:\n",
    "            print(Q[-1])\n",
    "    elif inst[0] == 'pop':\n",
    "        if tail-head == 0:\n",
    "            print(-1)\n",
    "        else:\n",
    "            print(Q[head])\n",
    "            head += 1\n",
    "    elif inst[0] == 'size':\n",
    "        print(tail-head)\n",
    "    elif inst[0] == 'empty':\n",
    "        if tail-head == 0:\n",
    "            print(1)\n",
    "        else:\n",
    "            print(0)\n",
    "    elif inst[0] == 'push':\n",
    "        Q.append(int(inst[1]))\n",
    "        tail += 1"
   ]
  }
 ],
 "metadata": {
  "interpreter": {
   "hash": "e5dc435c09b66366b3585650057b3927d589a8c5b18d44f27594194877b89d4d"
  },
  "kernelspec": {
   "display_name": "Python 3.9.6 64-bit ('acmicpc': venv)",
   "language": "python",
   "name": "python3"
  },
  "language_info": {
   "codemirror_mode": {
    "name": "ipython",
    "version": 3
   },
   "file_extension": ".py",
   "mimetype": "text/x-python",
   "name": "python",
   "nbconvert_exporter": "python",
   "pygments_lexer": "ipython3",
   "version": "3.9.6"
  },
  "orig_nbformat": 4
 },
 "nbformat": 4,
 "nbformat_minor": 2
}
